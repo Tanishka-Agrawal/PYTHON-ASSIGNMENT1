{
 "cells": [
  {
   "cell_type": "code",
   "execution_count": 1,
   "id": "f2a9de4b-1f1d-4a14-abd5-3f72cd0db04f",
   "metadata": {},
   "outputs": [
    {
     "name": "stdout",
     "output_type": "stream",
     "text": [
      "45\n"
     ]
    }
   ],
   "source": [
    "\n",
    "# Q1\n",
    "# Find the second largest number without sort()\n",
    "def second_largest(lst):\n",
    "    first = second = float('-inf')\n",
    "    for num in lst:\n",
    "        if num > first:\n",
    "            second = first\n",
    "            first = num\n",
    "        elif first > num > second:\n",
    "            second = num\n",
    "    return second\n",
    "\n",
    "print(second_largest([10, 20, 4, 45, 99]))\n"
   ]
  },
  {
   "cell_type": "code",
   "execution_count": 2,
   "id": "6e90eadd-ff0e-46b3-a03f-2cca42ed7103",
   "metadata": {},
   "outputs": [
    {
     "name": "stdout",
     "output_type": "stream",
     "text": [
      "[1, 2, 3, 4, 5]\n"
     ]
    }
   ],
   "source": [
    "# Q2\n",
    "# Remove duplicates without set() and sort\n",
    "def remove_duplicates(lst):\n",
    "    result = []\n",
    "    for item in lst:\n",
    "        if item not in result:\n",
    "            result.append(item)\n",
    "    return sorted(result)\n",
    "\n",
    "print(remove_duplicates([4, 5, 2, 2, 3, 4, 1]))"
   ]
  },
  {
   "cell_type": "code",
   "execution_count": 3,
   "id": "89d33cc4-ec1e-4542-b866-373b0d66df8e",
   "metadata": {},
   "outputs": [
    {
     "name": "stdout",
     "output_type": "stream",
     "text": [
      "(100, 25.0)\n"
     ]
    }
   ],
   "source": [
    "# Q3\n",
    "# Sum and average of a list\n",
    "def sum_and_average(lst):\n",
    "    total = sum(lst)\n",
    "    avg = total / len(lst)\n",
    "    return total, avg\n",
    "\n",
    "print(sum_and_average([10, 20, 30, 40]))"
   ]
  },
  {
   "cell_type": "code",
   "execution_count": 4,
   "id": "176da41a-811a-44a8-9854-8c3c2ea8ab37",
   "metadata": {},
   "outputs": [
    {
     "name": "stdout",
     "output_type": "stream",
     "text": [
      "True\n"
     ]
    }
   ],
   "source": [
    "# Q4\n",
    "# Check if number is prime\n",
    "def is_prime(n):\n",
    "    if n < 2:\n",
    "        return False\n",
    "    for i in range(2, int(n**0.5)+1):\n",
    "        if n % i == 0:\n",
    "            return False\n",
    "    return True\n",
    "\n",
    "print(is_prime(17))"
   ]
  },
  {
   "cell_type": "code",
   "execution_count": 5,
   "id": "78fda8af-4ab7-48af-aaac-5577f1fe8f18",
   "metadata": {},
   "outputs": [
    {
     "name": "stdout",
     "output_type": "stream",
     "text": [
      "(3, 7, 3, 3)\n"
     ]
    }
   ],
   "source": [
    "# Q5\n",
    "# Count vowels, consonants, digits, and special characters\n",
    "def count_elements(s):\n",
    "    vowels = \"aeiouAEIOU\"\n",
    "    v = c = d = sc = 0\n",
    "    for ch in s:\n",
    "        if ch.isdigit():\n",
    "            d += 1\n",
    "        elif ch.isalpha():\n",
    "            if ch in vowels:\n",
    "                v += 1\n",
    "            else:\n",
    "                c += 1\n",
    "        else:\n",
    "            sc += 1\n",
    "    return v, c, d, sc\n",
    "\n",
    "print(count_elements(\"Hello World! 123\"))"
   ]
  },
  {
   "cell_type": "code",
   "execution_count": 6,
   "id": "05335c7f-ab8b-4421-90e4-d2273cc16d8b",
   "metadata": {},
   "outputs": [
    {
     "name": "stdout",
     "output_type": "stream",
     "text": [
      "2 4 6 8 10 12 14 16 18 20 22 24 26 28 30 32 34 36 38 40 42 44 46 48 50 52 54 56 58 60 62 64 66 68 70 72 74 76 78 80 82 84 86 88 90 92 94 96 98 100 "
     ]
    }
   ],
   "source": [
    "# Q6\n",
    "# Even numbers between 1 and 100\n",
    "for i in range(2, 101, 2):\n",
    "    print(i, end=\" \")"
   ]
  },
  {
   "cell_type": "code",
   "execution_count": 8,
   "id": "c0dad701-efaa-4b23-9bc6-2d3c8c69f4ec",
   "metadata": {},
   "outputs": [
    {
     "name": "stdin",
     "output_type": "stream",
     "text": [
      "Enter number:  6\n"
     ]
    },
    {
     "name": "stdout",
     "output_type": "stream",
     "text": [
      "6 x 1 = 6\n",
      "6 x 2 = 12\n",
      "6 x 3 = 18\n",
      "6 x 4 = 24\n",
      "6 x 5 = 30\n",
      "6 x 6 = 36\n",
      "6 x 7 = 42\n",
      "6 x 8 = 48\n",
      "6 x 9 = 54\n",
      "6 x 10 = 60\n"
     ]
    }
   ],
   "source": [
    "# Q7\n",
    "# Multiplication table\n",
    "n = int(input(\"Enter number: \"))\n",
    "for i in range(1, 11):\n",
    "    print(f\"{n} x {i} = {n*i}\")"
   ]
  },
  {
   "cell_type": "code",
   "execution_count": 9,
   "id": "376a8e29-0068-478d-8db9-ec611ca851da",
   "metadata": {},
   "outputs": [
    {
     "name": "stdout",
     "output_type": "stream",
     "text": [
      "[15, 30, 45, 60, 75, 90]\n"
     ]
    }
   ],
   "source": [
    "# Q8\n",
    "# Numbers divisible by both 3 and 5\n",
    "print([i for i in range(1, 101) if i % 3 == 0 and i % 5 == 0])"
   ]
  },
  {
   "cell_type": "code",
   "execution_count": 10,
   "id": "331b5190-6dbf-4bb0-800b-082aa5d7ac52",
   "metadata": {},
   "outputs": [
    {
     "name": "stdin",
     "output_type": "stream",
     "text": [
      "Enter a number:  5\n"
     ]
    },
    {
     "name": "stdout",
     "output_type": "stream",
     "text": [
      "5\n"
     ]
    }
   ],
   "source": [
    "# Q9\n",
    "# Reverse a number\n",
    "n = int(input(\"Enter a number: \"))\n",
    "print(str(n)[::-1])"
   ]
  },
  {
   "cell_type": "code",
   "execution_count": 11,
   "id": "03196c2a-d848-452b-b903-f326776637d4",
   "metadata": {},
   "outputs": [
    {
     "name": "stdout",
     "output_type": "stream",
     "text": [
      "{'h': 1, 'e': 1, 'l': 3, 'o': 2, ' ': 1, 'w': 1, 'r': 1, 'd': 1}\n"
     ]
    }
   ],
   "source": [
    "# Q10\n",
    "# Frequency of characters\n",
    "def char_frequency(s):\n",
    "    freq = {}\n",
    "    for ch in s:\n",
    "        freq[ch] = freq.get(ch, 0) + 1\n",
    "    return freq\n",
    "\n",
    "print(char_frequency(\"hello world\"))"
   ]
  },
  {
   "cell_type": "code",
   "execution_count": 12,
   "id": "bb9d6988-6213-4676-8008-656e53c912f3",
   "metadata": {},
   "outputs": [
    {
     "name": "stdout",
     "output_type": "stream",
     "text": [
      "[2, 3, 5, 7, 11, 13, 17, 19, 23, 29]\n"
     ]
    }
   ],
   "source": [
    "# Q11\n",
    "# Generate first n prime numbers\n",
    "def generate_primes(n):\n",
    "    primes = []\n",
    "    num = 2\n",
    "    while len(primes) < n:\n",
    "        if all(num % p != 0 for p in primes):\n",
    "            primes.append(num)\n",
    "        num += 1\n",
    "    return primes\n",
    "\n",
    "print(generate_primes(10))\n"
   ]
  },
  {
   "cell_type": "code",
   "execution_count": 13,
   "id": "4284cbac-5d4c-4379-8ce9-c2aae1bc29bd",
   "metadata": {},
   "outputs": [
    {
     "name": "stdout",
     "output_type": "stream",
     "text": [
      "True\n"
     ]
    }
   ],
   "source": [
    "# Q12\n",
    "# Check if a number is a palindrome\n",
    "def is_palindrome(n):\n",
    "    return str(n) == str(n)[::-1]\n",
    "\n",
    "print(is_palindrome(121))"
   ]
  },
  {
   "cell_type": "code",
   "execution_count": 14,
   "id": "569046ee-8de7-44ca-92cf-3f27f8ec9e3e",
   "metadata": {},
   "outputs": [
    {
     "name": "stdout",
     "output_type": "stream",
     "text": [
      "3\n"
     ]
    }
   ],
   "source": [
    "\n",
    "# Q13\n",
    "# Count specific element in a list\n",
    "def count_occurrences(lst, elem):\n",
    "    return lst.count(elem)\n",
    "\n",
    "print(count_occurrences([1,2,3,4,2,2,5], 2))"
   ]
  },
  {
   "cell_type": "code",
   "execution_count": 15,
   "id": "21f24de9-76c8-431f-87c6-48458fe76b6f",
   "metadata": {},
   "outputs": [
    {
     "name": "stdout",
     "output_type": "stream",
     "text": [
      "[4, 16, 36, 64, 100, 144, 196, 256, 324, 400, 484, 576, 676, 784, 900, 1024, 1156, 1296, 1444, 1600, 1764, 1936, 2116, 2304, 2500]\n"
     ]
    }
   ],
   "source": [
    "# Q14\n",
    "# Squares of even numbers between 1 and 50\n",
    "print([i**2 for i in range(1, 51) if i % 2 == 0])"
   ]
  },
  {
   "cell_type": "code",
   "execution_count": 16,
   "id": "05d237f5-9b33-4454-96d3-9307798b24dc",
   "metadata": {},
   "outputs": [
    {
     "name": "stdout",
     "output_type": "stream",
     "text": [
      "[1, 2, 3, 4, 5]\n"
     ]
    }
   ],
   "source": [
    "# Q15\n",
    "# Return list with unique elements (preserve order)\n",
    "def unique_list(lst):\n",
    "    seen = set()\n",
    "    result = []\n",
    "    for i in lst:\n",
    "        if i not in seen:\n",
    "            seen.add(i)\n",
    "            result.append(i)\n",
    "    return result\n",
    "\n",
    "print(unique_list([1,2,2,3,4,4,5]))"
   ]
  },
  {
   "cell_type": "code",
   "execution_count": 17,
   "id": "7fa67b0a-f9d3-4929-ae02-4e30d474ba15",
   "metadata": {},
   "outputs": [
    {
     "name": "stdout",
     "output_type": "stream",
     "text": [
      "True\n"
     ]
    }
   ],
   "source": [
    "# Q16\n",
    "def is_even(n):\n",
    "    return n % 2 == 0\n",
    "\n",
    "print(is_even(4))"
   ]
  },
  {
   "cell_type": "code",
   "execution_count": 18,
   "id": "18c02cf0-bb03-4565-baa4-458f8a2a1aee",
   "metadata": {},
   "outputs": [
    {
     "name": "stdout",
     "output_type": "stream",
     "text": [
      "[1, 3, 6, 10]\n"
     ]
    }
   ],
   "source": [
    "# Q17\n",
    "def cumulative_sum(lst):\n",
    "    total = 0\n",
    "    result = []\n",
    "    for num in lst:\n",
    "        total += num\n",
    "        result.append(total)\n",
    "    return result\n",
    "\n",
    "print(cumulative_sum([1,2,3,4]))"
   ]
  },
  {
   "cell_type": "code",
   "execution_count": 19,
   "id": "c8c0c22b-d5e9-4942-bd1a-f32b11462b28",
   "metadata": {},
   "outputs": [
    {
     "name": "stdout",
     "output_type": "stream",
     "text": [
      "120\n"
     ]
    }
   ],
   "source": [
    "# Q18\n",
    "def factorial(n):\n",
    "    if n == 0:\n",
    "        return 1\n",
    "    return n * factorial(n-1)\n",
    "\n",
    "print(factorial(5))"
   ]
  },
  {
   "cell_type": "code",
   "execution_count": 20,
   "id": "20e1469a-d5b4-4908-a16d-6df7e3a133f3",
   "metadata": {},
   "outputs": [
    {
     "name": "stdout",
     "output_type": "stream",
     "text": [
      "0 1 1 2 3 5 8 13 21 34 "
     ]
    }
   ],
   "source": [
    "# Q19\n",
    "def fibonacci(n):\n",
    "    a, b = 0, 1\n",
    "    for _ in range(n):\n",
    "        print(a, end=\" \")\n",
    "        a, b = b, a + b\n",
    "\n",
    "fibonacci(10)"
   ]
  },
  {
   "cell_type": "code",
   "execution_count": 21,
   "id": "d8f82919-566f-48fd-a428-eb71ba9f2374",
   "metadata": {},
   "outputs": [
    {
     "name": "stdout",
     "output_type": "stream",
     "text": [
      "True\n"
     ]
    }
   ],
   "source": [
    "# Q20\n",
    "def is_palindrome_string(s):\n",
    "    return s == s[::-1]\n",
    "\n",
    "print(is_palindrome_string(\"madam\"))"
   ]
  },
  {
   "cell_type": "code",
   "execution_count": 22,
   "id": "52350039-60dd-4337-9d62-f51deba1aefb",
   "metadata": {},
   "outputs": [
    {
     "name": "stdout",
     "output_type": "stream",
     "text": [
      "(5, 1)\n"
     ]
    }
   ],
   "source": [
    "# Q21\n",
    "def max_min(lst):\n",
    "    return max(lst), min(lst)\n",
    "\n",
    "print(max_min([1, 2, 3, 4, 5]))"
   ]
  },
  {
   "cell_type": "code",
   "execution_count": 23,
   "id": "da89b009-f237-4ee6-aeb1-896e6688bdf5",
   "metadata": {},
   "outputs": [
    {
     "name": "stdout",
     "output_type": "stream",
     "text": [
      "True\n"
     ]
    }
   ],
   "source": [
    "# Q22\n",
    "import string\n",
    "\n",
    "def is_pangram(s):\n",
    "    return set(string.ascii_lowercase) <= set(s.lower())\n",
    "\n",
    "print(is_pangram(\"The quick brown fox jumps over a lazy dog\"))"
   ]
  },
  {
   "cell_type": "code",
   "execution_count": 24,
   "id": "937ae224-6e53-4b0d-aa12-ebcf3d0efe1b",
   "metadata": {},
   "outputs": [
    {
     "name": "stdout",
     "output_type": "stream",
     "text": [
      "[11, 13, 17, 19, 23, 29, 31, 37, 41, 43, 47]\n"
     ]
    }
   ],
   "source": [
    "# Q23\n",
    "def primes_in_range(start, end):\n",
    "    return [x for x in range(start, end+1) if is_prime(x)]\n",
    "\n",
    "print(primes_in_range(10, 50))"
   ]
  },
  {
   "cell_type": "code",
   "execution_count": 25,
   "id": "8b898e8c-e578-4f2d-936e-e0d1dd47127c",
   "metadata": {},
   "outputs": [
    {
     "name": "stdout",
     "output_type": "stream",
     "text": [
      "(2, 8)\n"
     ]
    }
   ],
   "source": [
    "# Q24\n",
    "def count_case(s):\n",
    "    upper = sum(1 for c in s if c.isupper())\n",
    "    lower = sum(1 for c in s if c.islower())\n",
    "    return upper, lower\n",
    "\n",
    "print(count_case(\"Hello World\"))"
   ]
  },
  {
   "cell_type": "code",
   "execution_count": 26,
   "id": "21c6ee57-03df-4e3a-8491-41828841af8c",
   "metadata": {},
   "outputs": [
    {
     "name": "stdout",
     "output_type": "stream",
     "text": [
      "10\n"
     ]
    }
   ],
   "source": [
    "# Q25\n",
    "def sum_of_digits(n):\n",
    "    return sum(int(d) for d in str(n))\n",
    "\n",
    "print(sum_of_digits(1234))"
   ]
  },
  {
   "cell_type": "code",
   "execution_count": 27,
   "id": "adc4e81e-003b-4cff-b9d6-a9b01fda3761",
   "metadata": {},
   "outputs": [
    {
     "name": "stdout",
     "output_type": "stream",
     "text": [
      "5\n"
     ]
    }
   ],
   "source": [
    "# Q26\n",
    "def count_words(sentence):\n",
    "    return len(sentence.split())\n",
    "\n",
    "print(count_words(\"This is a sample sentence.\"))"
   ]
  },
  {
   "cell_type": "code",
   "execution_count": 28,
   "id": "dd3355f4-e52e-4bb8-bd0e-7f44c51cbb0c",
   "metadata": {},
   "outputs": [
    {
     "name": "stdout",
     "output_type": "stream",
     "text": [
      "Hello world Its a great day\n"
     ]
    }
   ],
   "source": [
    "# Q27\n",
    "import string\n",
    "\n",
    "def remove_punctuation(s):\n",
    "    return ''.join(c for c in s if c not in string.punctuation)\n",
    "\n",
    "print(remove_punctuation(\"Hello, world! It's a great day.\"))"
   ]
  },
  {
   "cell_type": "code",
   "execution_count": 29,
   "id": "ce86d757-9d48-4a62-8c41-38bc264042f7",
   "metadata": {},
   "outputs": [
    {
     "name": "stdout",
     "output_type": "stream",
     "text": [
      "6\n"
     ]
    }
   ],
   "source": [
    "# Q28\n",
    "def gcd(a, b):\n",
    "    while b:\n",
    "        a, b = b, a % b\n",
    "    return a\n",
    "\n",
    "print(gcd(54, 24))"
   ]
  },
  {
   "cell_type": "code",
   "execution_count": 30,
   "id": "5b76f2b2-3214-4ee7-9f25-f38962a2a507",
   "metadata": {},
   "outputs": [
    {
     "name": "stdout",
     "output_type": "stream",
     "text": [
      "[2, 4]\n"
     ]
    }
   ],
   "source": [
    "# Q29\n",
    "def duplicates(lst):\n",
    "    return [x for x in set(lst) if lst.count(x) > 1]\n",
    "\n",
    "print(duplicates([1,2,2,3,4,4,5]))"
   ]
  },
  {
   "cell_type": "code",
   "execution_count": 31,
   "id": "bcb5fe0b-042c-4008-a314-8eb63be91c3f",
   "metadata": {},
   "outputs": [
    {
     "name": "stdout",
     "output_type": "stream",
     "text": [
      "9\n"
     ]
    }
   ],
   "source": [
    "# Q30\n",
    "def largest_of_three(a, b, c):\n",
    "    return max(a, b, c)\n",
    "\n",
    "print(largest_of_three(5, 9, 2))"
   ]
  },
  {
   "cell_type": "code",
   "execution_count": 32,
   "id": "52fd172a-5990-4a1f-baaf-2b015fc83a3c",
   "metadata": {},
   "outputs": [
    {
     "name": "stdout",
     "output_type": "stream",
     "text": [
      "a is test this\n"
     ]
    }
   ],
   "source": [
    "# Q31\n",
    "sentence = \"this is a test\"\n",
    "words = sentence.split()\n",
    "words.sort()\n",
    "print(\" \".join(words))"
   ]
  },
  {
   "cell_type": "code",
   "execution_count": 33,
   "id": "78f97cd1-a547-49f4-93a2-cdc460957f8c",
   "metadata": {},
   "outputs": [
    {
     "name": "stdout",
     "output_type": "stream",
     "text": [
      "{'a': 1, 'b': 2, 'c': 3, 'd': 4}\n"
     ]
    }
   ],
   "source": [
    "# Q32\n",
    "dict1 = {\"a\": 1, \"b\": 2}\n",
    "dict2 = {\"c\": 3, \"d\": 4}\n",
    "dict1.update(dict2)\n",
    "print(dict1)"
   ]
  },
  {
   "cell_type": "code",
   "execution_count": 34,
   "id": "95bcc8fe-0d6e-480d-aabd-12cdab256252",
   "metadata": {},
   "outputs": [
    {
     "name": "stdout",
     "output_type": "stream",
     "text": [
      "{'Hello': 2, 'world': 1, 'this': 1, 'is': 1, 'Python': 1}\n"
     ]
    }
   ],
   "source": [
    "# Q33\n",
    "def vowels_in_words(sentence):\n",
    "    words = sentence.split()\n",
    "    vowels = \"aeiouAEIOU\"\n",
    "    return {word: sum(1 for c in word if c in vowels) for word in words}\n",
    "\n",
    "print(vowels_in_words(\"Hello world this is Python\"))"
   ]
  },
  {
   "cell_type": "code",
   "execution_count": 35,
   "id": "2b8545dc-27cb-403f-8636-02456bbb48c1",
   "metadata": {},
   "outputs": [
    {
     "name": "stdout",
     "output_type": "stream",
     "text": [
      "[1, 2, 3]\n"
     ]
    }
   ],
   "source": [
    "# Q34\n",
    "tup = (1, 2, 3)\n",
    "lst = list(tup)\n",
    "print(lst)"
   ]
  },
  {
   "cell_type": "code",
   "execution_count": 36,
   "id": "7c0e0daa-3d37-4d9e-9d57-f99ba69937a7",
   "metadata": {},
   "outputs": [
    {
     "name": "stdout",
     "output_type": "stream",
     "text": [
      "abcd\n"
     ]
    }
   ],
   "source": [
    "# Q35\n",
    "def remove_whitespace(s):\n",
    "    return s.replace(\" \", \"\")\n",
    "\n",
    "print(remove_whitespace(\" a b c d \"))"
   ]
  },
  {
   "cell_type": "code",
   "execution_count": 37,
   "id": "01fb7f7c-b32b-4ba6-a446-9b8af1dbb0a8",
   "metadata": {},
   "outputs": [
    {
     "name": "stdout",
     "output_type": "stream",
     "text": [
      "{'a': 1, 'b': 2, 'c': 3}\n"
     ]
    }
   ],
   "source": [
    "# Q36\n",
    "keys = [\"a\", \"b\", \"c\"]\n",
    "values = [1, 2, 3]\n",
    "merged = dict(zip(keys, values))\n",
    "print(merged)"
   ]
  },
  {
   "cell_type": "code",
   "execution_count": 38,
   "id": "39b55ad7-7e60-401a-a5ad-a0f6c4a4c8d6",
   "metadata": {},
   "outputs": [
    {
     "name": "stdout",
     "output_type": "stream",
     "text": [
      "b\n"
     ]
    }
   ],
   "source": [
    "# Q37\n",
    "d = {\"a\": 5, \"b\": 9, \"c\": 3}\n",
    "max_key = max(d, key=d.get)\n",
    "print(max_key)"
   ]
  },
  {
   "cell_type": "code",
   "execution_count": 39,
   "id": "9a6b3f97-cb90-4a87-9e02-abd83b87957c",
   "metadata": {},
   "outputs": [
    {
     "name": "stdout",
     "output_type": "stream",
     "text": [
      "{'hello': 2, 'world': 1}\n"
     ]
    }
   ],
   "source": [
    "# Q38\n",
    "sentence = \"hello hello world\"\n",
    "words = sentence.split()\n",
    "freq = {word: words.count(word) for word in words}\n",
    "print(freq)"
   ]
  },
  {
   "cell_type": "code",
   "execution_count": 40,
   "id": "e640da5d-b712-4fe8-ad6e-1643a02a3a9f",
   "metadata": {},
   "outputs": [
    {
     "name": "stdout",
     "output_type": "stream",
     "text": [
      "True\n"
     ]
    }
   ],
   "source": [
    "# Q39\n",
    "d = {\"a\": 1, \"b\": 2}\n",
    "print(\"a\" in d)"
   ]
  },
  {
   "cell_type": "code",
   "execution_count": 41,
   "id": "4fad972d-1de4-4eec-a79f-56482c3cc9ac",
   "metadata": {},
   "outputs": [
    {
     "name": "stdout",
     "output_type": "stream",
     "text": [
      "H*ll* W*rld\n"
     ]
    }
   ],
   "source": [
    "# Q40\n",
    "def replace_vowels(s):\n",
    "    return ''.join('*' if c.lower() in 'aeiou' else c for c in s)\n",
    "\n",
    "print(replace_vowels(\"Hello World\"))"
   ]
  },
  {
   "cell_type": "code",
   "execution_count": null,
   "id": "32e53611-5bd2-40c0-a0ce-4fe8d1cfcd2d",
   "metadata": {},
   "outputs": [],
   "source": [
    "# Q41\n",
    "with open(\"sample.txt\", \"r\") as file:\n",
    "    print(file.read())"
   ]
  },
  {
   "cell_type": "code",
   "execution_count": null,
   "id": "0e147cdf-2e1f-414f-8396-7cd3c67848fa",
   "metadata": {},
   "outputs": [],
   "source": [
    "# Q42\n",
    "with open(\"sample.txt\", \"r\") as file:\n",
    "    words = file.read().split()\n",
    "    print(len(words))"
   ]
  },
  {
   "cell_type": "code",
   "execution_count": null,
   "id": "511f23fb-a7bb-4aad-b70b-d805e4e21b94",
   "metadata": {},
   "outputs": [],
   "source": [
    "# Q43\n",
    "with open(\"sample.txt\", \"r\") as src, open(\"copy.txt\", \"w\") as dest:\n",
    "    dest.write(src.read())\n",
    "    "
   ]
  },
  {
   "cell_type": "code",
   "execution_count": null,
   "id": "999ae076-bbd8-422b-859b-d2a8362feda1",
   "metadata": {},
   "outputs": [],
   "source": [
    "# Q44\n",
    "with open(\"sample.txt\", \"r\") as file:\n",
    "    for line in file:\n",
    "        if len(line) > 50:\n",
    "            print(line.strip())"
   ]
  },
  {
   "cell_type": "code",
   "execution_count": 46,
   "id": "319bbee1-714f-4517-bb1a-3b0f1f207e91",
   "metadata": {},
   "outputs": [],
   "source": [
    "# Q45\n",
    "lines = [\"Hello\", \"World\", \"Python\"]\n",
    "with open(\"output.txt\", \"w\") as file:\n",
    "    for line in lines:\n",
    "        file.write(line + \"\\n\")"
   ]
  },
  {
   "cell_type": "code",
   "execution_count": 44,
   "id": "f8b672a5-52f4-40fe-a993-60a2864350fd",
   "metadata": {},
   "outputs": [
    {
     "name": "stdin",
     "output_type": "stream",
     "text": [
      "Enter numerator:  5\n",
      "Enter denominator:  9\n"
     ]
    },
    {
     "name": "stdout",
     "output_type": "stream",
     "text": [
      "0.5555555555555556\n"
     ]
    }
   ],
   "source": [
    "# Q46\n",
    "try:\n",
    "    a = int(input(\"Enter numerator: \"))\n",
    "    b = int(input(\"Enter denominator: \"))\n",
    "    print(a / b)\n",
    "except ZeroDivisionError:\n",
    "    print(\"Cannot divide by zero!\")"
   ]
  },
  {
   "cell_type": "code",
   "execution_count": 47,
   "id": "3261390d-7227-41d9-a21e-93b3fbca3b9f",
   "metadata": {},
   "outputs": [
    {
     "name": "stdin",
     "output_type": "stream",
     "text": [
      "Enter a number:  5\n"
     ]
    }
   ],
   "source": [
    "# Q47\n",
    "try:\n",
    "    num = int(input(\"Enter a number: \"))\n",
    "except ValueError:\n",
    "    print(\"Invalid input! Please enter a number.\")"
   ]
  },
  {
   "cell_type": "code",
   "execution_count": 48,
   "id": "247430fd-0acf-4338-92ba-73ad23d97e16",
   "metadata": {},
   "outputs": [
    {
     "name": "stdout",
     "output_type": "stream",
     "text": [
      "File not found!\n"
     ]
    }
   ],
   "source": [
    "# Q48\n",
    "try:\n",
    "    with open(\"nonexistent.txt\", \"r\") as f:\n",
    "        print(f.read())\n",
    "except FileNotFoundError:\n",
    "    print(\"File not found!\")"
   ]
  },
  {
   "cell_type": "code",
   "execution_count": 49,
   "id": "17b4b8d5-ecc8-4b09-b911-760d7424a750",
   "metadata": {},
   "outputs": [
    {
     "name": "stdout",
     "output_type": "stream",
     "text": [
      "Index out of range!\n"
     ]
    }
   ],
   "source": [
    "# Q49\n",
    "lst = [1, 2, 3]\n",
    "try:\n",
    "    print(lst[5])\n",
    "except IndexError:\n",
    "    print(\"Index out of range!\")"
   ]
  },
  {
   "cell_type": "code",
   "execution_count": 50,
   "id": "cc03804b-1966-4c36-94e8-46aa8adce1bf",
   "metadata": {},
   "outputs": [
    {
     "name": "stdout",
     "output_type": "stream",
     "text": [
      "In try block\n",
      "Exception occurred\n",
      "Finally block executed\n"
     ]
    }
   ],
   "source": [
    "# Q50\n",
    "try:\n",
    "    print(\"In try block\")\n",
    "    1 / 0\n",
    "except ZeroDivisionError:\n",
    "    print(\"Exception occurred\")\n",
    "finally:\n",
    "    print(\"Finally block executed\")"
   ]
  }
 ],
 "metadata": {
  "kernelspec": {
   "display_name": "Python 3 (ipykernel)",
   "language": "python",
   "name": "python3"
  },
  "language_info": {
   "codemirror_mode": {
    "name": "ipython",
    "version": 3
   },
   "file_extension": ".py",
   "mimetype": "text/x-python",
   "name": "python",
   "nbconvert_exporter": "python",
   "pygments_lexer": "ipython3",
   "version": "3.12.7"
  }
 },
 "nbformat": 4,
 "nbformat_minor": 5
}
