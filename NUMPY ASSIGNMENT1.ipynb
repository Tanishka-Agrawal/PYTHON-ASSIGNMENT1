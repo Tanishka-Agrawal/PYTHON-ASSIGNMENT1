{
 "cells": [
  {
   "cell_type": "code",
   "execution_count": 2,
   "id": "e5834156-aacf-4c68-9edb-a6757119c8cc",
   "metadata": {},
   "outputs": [],
   "source": [
    "import numpy as np "
   ]
  },
  {
   "cell_type": "code",
   "execution_count": 3,
   "id": "a7cd2c04-5c9c-4ddb-aa66-8f86e7e01904",
   "metadata": {},
   "outputs": [
    {
     "name": "stdout",
     "output_type": "stream",
     "text": [
      "Array: [0 1 2 3 4 5]\n",
      "Data type: int32\n"
     ]
    }
   ],
   "source": [
    "#Que = 1\n",
    "arr = np.arange(6) \n",
    "print(\"Array:\", arr)\n",
    "print(\"Data type:\", arr.dtype)\n"
   ]
  },
  {
   "cell_type": "code",
   "execution_count": 4,
   "id": "7403cde4-c11a-4b31-95b1-7eecd2a78748",
   "metadata": {},
   "outputs": [
    {
     "name": "stdout",
     "output_type": "stream",
     "text": [
      "The array data type is float64.\n"
     ]
    }
   ],
   "source": [
    "#Que = 2\n",
    "arr = np.array([1.0, 2.0, 3.0])\n",
    "if arr.dtype == np.float64:\n",
    "    print(\"The array data type is float64.\")\n",
    "else:\n",
    "    print(\"The array data type is not float64.\")"
   ]
  },
  {
   "cell_type": "code",
   "execution_count": 5,
   "id": "98941d09-5eb2-40e0-b4b7-e1630ee870bb",
   "metadata": {},
   "outputs": [
    {
     "name": "stdout",
     "output_type": "stream",
     "text": [
      "Complex Array: [1.+2.j 3.+4.j 5.+6.j]\n",
      "Data type: complex128\n"
     ]
    }
   ],
   "source": [
    "#Que = 3\n",
    "arr = np.array([1+2j, 3+4j, 5+6j], dtype=np.complex128)\n",
    "print(\"Complex Array:\", arr)\n",
    "print(\"Data type:\", arr.dtype)"
   ]
  },
  {
   "cell_type": "code",
   "execution_count": 6,
   "id": "b1e435a7-63ae-4699-aae0-fe331564968e",
   "metadata": {},
   "outputs": [
    {
     "name": "stdout",
     "output_type": "stream",
     "text": [
      "Convert into float32: [1. 2. 3. 4.]\n",
      "Data type: float32\n"
     ]
    }
   ],
   "source": [
    "# Que = 4\n",
    "int_arr = np.array([1, 2, 3, 4])\n",
    "float_arr = int_arr.astype(np.float32)\n",
    "print(\"Convert into float32:\", float_arr)\n",
    "print(\"Data type:\", float_arr.dtype)"
   ]
  },
  {
   "cell_type": "code",
   "execution_count": 7,
   "id": "c93e013f-4c3b-4e40-b2a7-dc0daa25fe9a",
   "metadata": {},
   "outputs": [
    {
     "name": "stdout",
     "output_type": "stream",
     "text": [
      "Converted to float32: [1.1234568 2.9876542]\n",
      "Original dtype: float64\n",
      "New dtype: float32\n"
     ]
    }
   ],
   "source": [
    "#Que = 5\n",
    "float64_arr = np.array([1.123456789, 2.987654321], dtype=np.float64)\n",
    "float32_arr = float64_arr.astype(np.float32)\n",
    "print(\"Converted to float32:\", float32_arr)\n",
    "print(\"Original dtype:\", float64_arr.dtype)\n",
    "print(\"New dtype:\", float32_arr.dtype)"
   ]
  },
  {
   "cell_type": "code",
   "execution_count": 8,
   "id": "829b0343-9a99-4ac6-8476-f6c15da56be6",
   "metadata": {},
   "outputs": [
    {
     "name": "stdout",
     "output_type": "stream",
     "text": [
      "Attributes: ((2, 2), 4, dtype('int32'))\n"
     ]
    }
   ],
   "source": [
    "#Que = 6\n",
    "def array_attributes(arr):\n",
    "    return arr.shape, arr.size, arr.dtype\n",
    "a = np.array([[1, 2], [3, 4]])\n",
    "print(\"Attributes:\", array_attributes(a))"
   ]
  },
  {
   "cell_type": "code",
   "execution_count": 9,
   "id": "a9a53111-932b-4367-949e-d021166ebf2c",
   "metadata": {},
   "outputs": [
    {
     "name": "stdout",
     "output_type": "stream",
     "text": [
      "Dimensions: 3\n"
     ]
    }
   ],
   "source": [
    "#Que = 7\n",
    "def array_dimension(arr):\n",
    "    return arr.ndim\n",
    "b = np.array([[[1, 2], [3, 4]]])\n",
    "print(\"Dimensions:\", array_dimension(b))"
   ]
  },
  {
   "cell_type": "code",
   "execution_count": 10,
   "id": "e2251ec6-cee8-44de-8349-7f8204639d4f",
   "metadata": {},
   "outputs": [
    {
     "name": "stdout",
     "output_type": "stream",
     "text": [
      "Item size and total size: (4, 12)\n"
     ]
    }
   ],
   "source": [
    "#Que = 8\n",
    "def item_size_info(arr):\n",
    "    return arr.itemsize, arr.nbytes\n",
    "c = np.array([1, 2, 3], dtype=np.int32)\n",
    "print(\"Item size and total size:\", item_size_info(c))"
   ]
  },
  {
   "cell_type": "code",
   "execution_count": 11,
   "id": "f21d6284-8caf-481f-ae67-75c25c1de50b",
   "metadata": {},
   "outputs": [
    {
     "name": "stdout",
     "output_type": "stream",
     "text": [
      "Strides: (8, 4)\n"
     ]
    }
   ],
   "source": [
    "# Que = 9\n",
    "def array_strides(arr):\n",
    "    return arr.strides\n",
    "d = np.array([[1, 2], [3, 4]])\n",
    "print(\"Strides:\", array_strides(d))"
   ]
  },
  {
   "cell_type": "code",
   "execution_count": 12,
   "id": "51a61491-f57e-48ef-82a5-271045bca051",
   "metadata": {},
   "outputs": [
    {
     "name": "stdout",
     "output_type": "stream",
     "text": [
      "Shape: (2, 3)\n",
      "Strides: (12, 4)\n"
     ]
    }
   ],
   "source": [
    "#Que = 10\n",
    "def shape_stride_relationship(arr):\n",
    "    return arr.shape, arr.strides\n",
    "arr = np.array([[1, 2, 3], [4, 5, 6]])\n",
    "shape, strides = shape_stride_relationship(arr)\n",
    "print(\"Shape:\", shape)\n",
    "print(\"Strides:\", strides)"
   ]
  },
  {
   "cell_type": "code",
   "execution_count": 13,
   "id": "9ddb932f-9752-40db-8bb7-aba1e791472a",
   "metadata": {},
   "outputs": [
    {
     "name": "stdout",
     "output_type": "stream",
     "text": [
      "Zeros array: [0. 0. 0. 0. 0.]\n"
     ]
    }
   ],
   "source": [
    "#Que = 11\n",
    "def create_zeros_array(n):\n",
    "    return np.zeros(n)\n",
    "print(\"Zeros array:\", create_zeros_array(5))"
   ]
  },
  {
   "cell_type": "code",
   "execution_count": 14,
   "id": "b13cec59-9363-4bb9-aedd-9effcac5ee99",
   "metadata": {},
   "outputs": [
    {
     "name": "stdout",
     "output_type": "stream",
     "text": [
      "Ones matrix\n",
      ": [[1. 1. 1. 1.]\n",
      " [1. 1. 1. 1.]\n",
      " [1. 1. 1. 1.]]\n"
     ]
    }
   ],
   "source": [
    "#Que = 12\n",
    "def create_ones_matrix(rows, cols):\n",
    "    return np.ones((rows, cols))\n",
    "print(\"Ones matrix\\n:\", create_ones_matrix(3, 4))"
   ]
  },
  {
   "cell_type": "code",
   "execution_count": 15,
   "id": "94719d71-118a-404b-8825-83ac6e1c8004",
   "metadata": {},
   "outputs": [
    {
     "name": "stdout",
     "output_type": "stream",
     "text": [
      "Ranged array: [0 2 4 6 8]\n"
     ]
    }
   ],
   "source": [
    "#Que = 13\n",
    "def generate_range_array(start, stop, step):\n",
    "    return np.arange(start, stop, step)\n",
    "print(\"Ranged array:\", generate_range_array(0, 10, 2))"
   ]
  },
  {
   "cell_type": "code",
   "execution_count": 16,
   "id": "8ba2f471-57ae-4ad6-a5f1-13ead137a1d0",
   "metadata": {},
   "outputs": [
    {
     "name": "stdout",
     "output_type": "stream",
     "text": [
      "Linear space array: [1. 2. 3. 4. 5.]\n"
     ]
    }
   ],
   "source": [
    "#Que = 14\n",
    "def generate_linear_space(start, stop, num):\n",
    "    return np.linspace(start, stop, num)\n",
    "print(\"Linear space array:\", generate_linear_space(1, 5, 5))"
   ]
  },
  {
   "cell_type": "code",
   "execution_count": 17,
   "id": "2e99e7f1-3348-4356-a4e0-871c35e455a7",
   "metadata": {},
   "outputs": [
    {
     "name": "stdout",
     "output_type": "stream",
     "text": [
      "Identity matrix:\n",
      " [[1. 0. 0. 0.]\n",
      " [0. 1. 0. 0.]\n",
      " [0. 0. 1. 0.]\n",
      " [0. 0. 0. 1.]]\n"
     ]
    }
   ],
   "source": [
    "#Que = 15\n",
    "def create_identity_matrix(n):\n",
    "    return np.identity(n)\n",
    "print(\"Identity matrix:\\n\", create_identity_matrix(4))"
   ]
  },
  {
   "cell_type": "code",
   "execution_count": 18,
   "id": "1a80c9a4-0dab-45b5-95d3-f83fc338fb71",
   "metadata": {},
   "outputs": [
    {
     "name": "stdout",
     "output_type": "stream",
     "text": [
      "Numpy array: [1 2 3 4]\n"
     ]
    }
   ],
   "source": [
    "#Que = 16\n",
    "def list_to_numpy_array(py_list):\n",
    "    return np.array(py_list)\n",
    "print(\"Numpy array:\", list_to_numpy_array([1, 2, 3, 4]))"
   ]
  },
  {
   "cell_type": "code",
   "execution_count": 19,
   "id": "1d663b31-36f8-4b63-af2e-aa1eef7d3603",
   "metadata": {},
   "outputs": [
    {
     "name": "stdout",
     "output_type": "stream",
     "text": [
      "View array: [10 20 30 40]\n"
     ]
    }
   ],
   "source": [
    "#Que = 17\n",
    "a = np.array([10, 20, 30, 40])\n",
    "a1 = a.view()\n",
    "print(\"View array:\", a1)"
   ]
  },
  {
   "cell_type": "code",
   "execution_count": 20,
   "id": "20e390bb-e46a-485f-bc8c-96409829f005",
   "metadata": {},
   "outputs": [
    {
     "name": "stdout",
     "output_type": "stream",
     "text": [
      "[1 2 3 6 7 8]\n"
     ]
    }
   ],
   "source": [
    "#Que = 18\n",
    "def concatenate_arrays(arr1, arr2, axis=0):\n",
    "    return np.concatenate((arr1, arr2), axis=axis)\n",
    "print(concatenate_arrays([1,2,3],[6,7,8]))\n"
   ]
  },
  {
   "cell_type": "code",
   "execution_count": 21,
   "id": "b9960fa5-b4dd-4c24-b64d-e7d56c4972bc",
   "metadata": {},
   "outputs": [
    {
     "name": "stdout",
     "output_type": "stream",
     "text": [
      "[[1 2 3 4 9 7 6 8]]\n"
     ]
    }
   ],
   "source": [
    "#Que = 19\n",
    "def horizontal_concatenate(arr1, arr2):\n",
    "    return np.concatenate((arr1, arr2), axis=1)\n",
    "print(horizontal_concatenate([[1,2,3,4]],[[9,7,6,8]])) "
   ]
  },
  {
   "cell_type": "code",
   "execution_count": 22,
   "id": "582ec01a-e212-4fe2-aae1-382b14a3b522",
   "metadata": {},
   "outputs": [
    {
     "name": "stdout",
     "output_type": "stream",
     "text": [
      "[[1]\n",
      " [3]\n",
      " [4]]\n"
     ]
    }
   ],
   "source": [
    "#Que = 20\n",
    "def vertical_stack(arrays):\n",
    "     return np.vstack(arrays)\n",
    "print(vertical_stack([1,3,4]))"
   ]
  },
  {
   "cell_type": "code",
   "execution_count": 23,
   "id": "f838df72-c8bc-4a62-befe-0e0c02c5ca04",
   "metadata": {},
   "outputs": [],
   "source": [
    "import numpy as np\n",
    "import pandas as pd"
   ]
  },
  {
   "cell_type": "code",
   "execution_count": 24,
   "id": "286ec801-6927-4b89-a9f5-d6e5c9aeebc4",
   "metadata": {},
   "outputs": [
    {
     "name": "stdout",
     "output_type": "stream",
     "text": [
      "   Column1  Column2  Column3\n",
      "0       16       93       75\n",
      "1       56       50       19\n",
      "2       45       84        3\n",
      "3       17       20       27\n",
      "4        4       25       90\n"
     ]
    }
   ],
   "source": [
    "#Que = 24\n",
    "data = np.random.randint(1, 101, size=(5, 3))\n",
    "df = pd.DataFrame(data, columns=['Column1', 'Column2', 'Column3'])\n",
    "print(df)"
   ]
  },
  {
   "cell_type": "code",
   "execution_count": 25,
   "id": "3da90d7b-bda3-45e4-91e0-80585000a503",
   "metadata": {},
   "outputs": [
    {
     "name": "stdout",
     "output_type": "stream",
     "text": [
      "    A\n",
      "0  10\n",
      "1   0\n",
      "2   7\n",
      "3   0\n",
      "4  15\n"
     ]
    }
   ],
   "source": [
    "#Que = 25\n",
    "def replace_negatives_with_zero(df, a):\n",
    "    df[a] = np.where(df[a] < 0, 0, df[a])\n",
    "    return df\n",
    "data = {\n",
    "    'A': [10, -5, 7, -2, 15],}\n",
    "df = pd.DataFrame(data)\n",
    "df = replace_negatives_with_zero(df, 'A')\n",
    "\n",
    "print(df)\n"
   ]
  },
  {
   "cell_type": "code",
   "execution_count": 26,
   "id": "6f034d83-1656-4c63-af4d-bb4cad3767b6",
   "metadata": {},
   "outputs": [
    {
     "name": "stdout",
     "output_type": "stream",
     "text": [
      "[1 3 5 7 9]\n"
     ]
    }
   ],
   "source": [
    "#Que 21\n",
    "def generate_range_array(start, stop, step):\n",
    "    return np.arange(start, stop + 1, step)\n",
    "arr = generate_range_array(1, 10, 2)\n",
    "print(arr)\n"
   ]
  },
  {
   "cell_type": "code",
   "execution_count": 27,
   "id": "8dc79d8f-3330-40f6-969e-4df4067638ea",
   "metadata": {},
   "outputs": [
    {
     "name": "stdout",
     "output_type": "stream",
     "text": [
      "[0.         0.11111111 0.22222222 0.33333333 0.44444444 0.55555556\n",
      " 0.66666667 0.77777778 0.88888889 1.        ]\n"
     ]
    }
   ],
   "source": [
    "#Que 22\n",
    "def generate_linear_space():\n",
    "    return np.linspace(0, 1, 10)\n",
    "arr = generate_linear_space()\n",
    "print(arr)"
   ]
  },
  {
   "cell_type": "code",
   "execution_count": 28,
   "id": "69c89452-1ed7-4e4d-9fff-0c8b15ac6bba",
   "metadata": {},
   "outputs": [
    {
     "name": "stdout",
     "output_type": "stream",
     "text": [
      "[   1.            5.62341325   31.6227766   177.827941   1000.        ]\n"
     ]
    }
   ],
   "source": [
    "#Que 23\n",
    "def generate_log_space():\n",
    "    return np.logspace(0, 3, 5)\n",
    "arr = generate_log_space()\n",
    "print(arr)"
   ]
  },
  {
   "cell_type": "code",
   "execution_count": 29,
   "id": "a1b72682-fbff-4f08-bd30-65479d976391",
   "metadata": {},
   "outputs": [
    {
     "name": "stdout",
     "output_type": "stream",
     "text": [
      "3rd element: 30\n"
     ]
    }
   ],
   "source": [
    "#QUE 26\n",
    "arr = np.array([10, 20, 30, 40, 50])\n",
    "third_element = arr[2] \n",
    "print(\"3rd element:\", third_element)"
   ]
  },
  {
   "cell_type": "code",
   "execution_count": 30,
   "id": "865e6220-1f38-4efe-8f06-6338f0d38829",
   "metadata": {},
   "outputs": [
    {
     "name": "stdout",
     "output_type": "stream",
     "text": [
      "6\n"
     ]
    }
   ],
   "source": [
    "#Que 27\n",
    "array_2d = np.array([[1, 2, 3], [4, 5, 6], [7, 8, 9]])\n",
    "element = array_2d[1, 2] \n",
    "print( element)\n"
   ]
  },
  {
   "cell_type": "code",
   "execution_count": 31,
   "id": "7f175ee8-7de8-46c4-a5a6-7ad0f6ef05de",
   "metadata": {},
   "outputs": [
    {
     "name": "stdout",
     "output_type": "stream",
     "text": [
      "[7 9]\n"
     ]
    }
   ],
   "source": [
    "#Que 28\n",
    "arr = np.array([1, 3, 5, 7, 9])\n",
    "a = arr[arr > 5]\n",
    "print(a)"
   ]
  },
  {
   "cell_type": "code",
   "execution_count": 32,
   "id": "f90b37be-d955-4ddd-848c-ac4ec6d41ff1",
   "metadata": {},
   "outputs": [
    {
     "name": "stdout",
     "output_type": "stream",
     "text": [
      "[[2 3]\n",
      " [5 6]]\n"
     ]
    }
   ],
   "source": [
    "#Que 30\n",
    "a = np.array([\n",
    "    [1, 2, 3],\n",
    "    [4, 5, 6],\n",
    "    [7, 8, 9]\n",
    "])\n",
    "\n",
    "arr = a[0:2, 1:3] \n",
    "print(arr)"
   ]
  },
  {
   "cell_type": "code",
   "execution_count": 33,
   "id": "10cf87df-e25f-49e9-b412-77c0e124acf2",
   "metadata": {},
   "outputs": [
    {
     "name": "stdout",
     "output_type": "stream",
     "text": [
      "[10 50 90]\n"
     ]
    }
   ],
   "source": [
    "#Que 31\n",
    "arr= np.array([[10, 20, 30],[40, 50, 60],[70, 80, 90]])\n",
    "row_indices = [0, 1, 2]\n",
    "col_indices = [0, 1, 2]\n",
    "result = arr[row_indices, col_indices]\n",
    "print(result)"
   ]
  },
  {
   "cell_type": "code",
   "execution_count": 34,
   "id": "e54bd645-0f4d-4aaa-ab7b-9a5df0a15cab",
   "metadata": {},
   "outputs": [
    {
     "name": "stdout",
     "output_type": "stream",
     "text": [
      "6 : [ 8 12  7]\n"
     ]
    }
   ],
   "source": [
    "#QUe 32\n",
    "arr = np.array([5, 8, 12, 3, 7])\n",
    "threshold = 6\n",
    "filtered = arr[arr > threshold]\n",
    "print( threshold, \":\", filtered)"
   ]
  },
  {
   "cell_type": "code",
   "execution_count": 35,
   "id": "42caac94-09c0-4f06-9917-cfbcb16d2bf5",
   "metadata": {},
   "outputs": [
    {
     "name": "stdout",
     "output_type": "stream",
     "text": [
      "[4 5]\n"
     ]
    }
   ],
   "source": [
    "#Que 33\n",
    "arr_3d = np.array([[[1, 2], [3, 4]],[[5, 6], [7, 8]]])\n",
    "i = np.array([0, 1])\n",
    "j = np.array([1, 0])\n",
    "k = np.array([1, 0])\n",
    "result = arr_3d[i, j, k]\n",
    "print(result)\n"
   ]
  },
  {
   "cell_type": "code",
   "execution_count": 36,
   "id": "389671fb-3154-439d-a337-74f1d690626e",
   "metadata": {},
   "outputs": [
    {
     "name": "stdout",
     "output_type": "stream",
     "text": [
      "[20 25]\n"
     ]
    }
   ],
   "source": [
    "#Que 34\n",
    "arr = np.array([10, 15, 20, 25, 30])\n",
    "result = arr[(arr > 15) & (arr < 30)]\n",
    "print(result)"
   ]
  },
  {
   "cell_type": "code",
   "execution_count": 37,
   "id": "218633f1-6af3-4fe5-b3fe-4911b49bacd4",
   "metadata": {},
   "outputs": [
    {
     "name": "stdout",
     "output_type": "stream",
     "text": [
      "Selected elements: [30 40 80]\n"
     ]
    }
   ],
   "source": [
    "#Que 35\n",
    "array_2d = np.array([[10, 20, 30],[40, 50, 60],[70, 80, 90]])\n",
    "row_indices = np.array([0, 1, 2])\n",
    "col_indices = np.array([2, 0, 1])\n",
    "result = array_2d[row_indices, col_indices]\n",
    "print(\"Selected elements:\", result)\n"
   ]
  },
  {
   "cell_type": "code",
   "execution_count": 38,
   "id": "2392299d-8f1f-44f1-93ee-5c86380aa11f",
   "metadata": {},
   "outputs": [
    {
     "name": "stdout",
     "output_type": "stream",
     "text": [
      "[ 6  7  8  9 10]\n"
     ]
    }
   ],
   "source": [
    "#Que 36\n",
    "arr = np.array([1, 2, 3, 4, 5])\n",
    "result = arr + 5\n",
    "print(result)"
   ]
  },
  {
   "cell_type": "code",
   "execution_count": 39,
   "id": "32b3a800-fdaf-402f-b640-d9daf031de2b",
   "metadata": {},
   "outputs": [
    {
     "name": "stdout",
     "output_type": "stream",
     "text": [
      "[[ 1  2  3  4]\n",
      " [10 12 14 16]\n",
      " [27 30 33 36]]\n"
     ]
    }
   ],
   "source": [
    "#Que 37\n",
    "arr = np.array([[1, 2, 3, 4],[5, 6, 7, 8], [9, 10, 11, 12]])\n",
    "factors = np.array([[1], [2], [3]])\n",
    "result = arr * factors \n",
    "print(result)"
   ]
  },
  {
   "cell_type": "code",
   "execution_count": 40,
   "id": "664578af-02f4-4ef8-b6ef-d0533c25d07e",
   "metadata": {},
   "outputs": [
    {
     "name": "stdout",
     "output_type": "stream",
     "text": [
      "[[11 22 33]\n",
      " [14 25 36]\n",
      " [17 28 39]\n",
      " [20 31 42]]\n"
     ]
    }
   ],
   "source": [
    "#Que 38\n",
    "arr = np.array([[1, 2, 3],[4, 5, 6],[7, 8, 9],[10, 11, 12]])\n",
    "to_add = np.array([[10, 20, 30]])  # Shape: (1, 3)\n",
    "result = arr + to_add\n",
    "print( result)"
   ]
  },
  {
   "cell_type": "code",
   "execution_count": 41,
   "id": "ad726fbe-ea40-4b96-8809-37fb4ee5a869",
   "metadata": {},
   "outputs": [
    {
     "name": "stdout",
     "output_type": "stream",
     "text": [
      "[[11 21 31]\n",
      " [12 22 32]\n",
      " [13 23 33]]\n"
     ]
    }
   ],
   "source": [
    "#Que 39\n",
    "a = np.array([[1], [2], [3]])\n",
    "b = np.array([[10, 20, 30]])  \n",
    "result = a + b \n",
    "print(result)"
   ]
  },
  {
   "cell_type": "code",
   "execution_count": 42,
   "id": "8c1bdb9f-1605-4712-9006-bce817e0cffb",
   "metadata": {},
   "outputs": [
    {
     "name": "stdout",
     "output_type": "stream",
     "text": [
      "operands could not be broadcast together with shapes (2,3) (2,2) \n"
     ]
    }
   ],
   "source": [
    "#Que 40\n",
    "a = np.array([[1, 2, 3],[4, 5, 6]])\n",
    "b = np.array([[1, 2],[3, 4]])  \n",
    "try:\n",
    "    result = a * b  \n",
    "except ValueError as e:\n",
    "    print( e)"
   ]
  },
  {
   "cell_type": "code",
   "execution_count": 43,
   "id": "bc3497ac-0faa-4dc8-82af-39ac4ae97ef2",
   "metadata": {},
   "outputs": [
    {
     "name": "stdout",
     "output_type": "stream",
     "text": [
      "[40. 50. 60.]\n"
     ]
    }
   ],
   "source": [
    "#Que 41\n",
    "arr = np.array([[10, 20, 30],\n",
    "                [40, 50, 60],\n",
    "                [70, 80, 90]])\n",
    "\n",
    "col_mean = np.mean(arr, axis=0)\n",
    "print(col_mean)"
   ]
  },
  {
   "cell_type": "code",
   "execution_count": 45,
   "id": "11f8a183-07fa-47c3-8824-36089f01344e",
   "metadata": {},
   "outputs": [
    {
     "data": {
      "text/plain": [
       "array([[10, 20, 30],\n",
       "       [40, 50, 60],\n",
       "       [70, 80, 90]])"
      ]
     },
     "execution_count": 45,
     "metadata": {},
     "output_type": "execute_result"
    }
   ],
   "source": [
    "arr"
   ]
  },
  {
   "cell_type": "code",
   "execution_count": 46,
   "id": "50f47665-6799-4365-928e-de5da2093c78",
   "metadata": {},
   "outputs": [
    {
     "name": "stdout",
     "output_type": "stream",
     "text": [
      "[30 60 90]\n"
     ]
    }
   ],
   "source": [
    "#Que 42\n",
    "row_max = np.max(arr, axis=1)\n",
    "print(row_max)"
   ]
  },
  {
   "cell_type": "code",
   "execution_count": 47,
   "id": "b5d2f319-463f-4f58-a76a-4ea4c0e5744e",
   "metadata": {},
   "outputs": [
    {
     "name": "stdout",
     "output_type": "stream",
     "text": [
      "[2 2 2]\n"
     ]
    }
   ],
   "source": [
    "#Que 43\n",
    "max_indices = np.argmax(arr, axis=0)\n",
    "print(max_indices)"
   ]
  },
  {
   "cell_type": "code",
   "execution_count": 48,
   "id": "5ccb4e75-de0c-4676-9a79-f0d6c680a9a9",
   "metadata": {},
   "outputs": [
    {
     "name": "stdout",
     "output_type": "stream",
     "text": [
      "[ True  True  True]\n"
     ]
    }
   ],
   "source": [
    "#Que 45\n",
    "all_even = np.all(arr % 2 == 0, axis=0)\n",
    "print(all_even)"
   ]
  },
  {
   "cell_type": "code",
   "execution_count": 49,
   "id": "580de35b-9c81-4af9-aa18-e4b62ca259b7",
   "metadata": {},
   "outputs": [
    {
     "name": "stdout",
     "output_type": "stream",
     "text": [
      "[[1 2 3]\n",
      " [4 5 6]]\n"
     ]
    }
   ],
   "source": [
    "#Que 46\n",
    "arr = np.array([1, 2, 3, 4, 5, 6])\n",
    "a= arr.reshape(2, 3)\n",
    "print(a)"
   ]
  },
  {
   "cell_type": "code",
   "execution_count": 50,
   "id": "3a1c4ae2-ae32-4aa2-8789-3478a9d9ff07",
   "metadata": {},
   "outputs": [
    {
     "name": "stdout",
     "output_type": "stream",
     "text": [
      "[1 2 3 4]\n"
     ]
    }
   ],
   "source": [
    "#Que 47\n",
    "a = np.array([[1, 2], [3, 4]])\n",
    "flattened = a.flatten()\n",
    "\n",
    "print(flattened)"
   ]
  },
  {
   "cell_type": "code",
   "execution_count": 51,
   "id": "7f8adf9b-e630-4155-b71d-1c071934f274",
   "metadata": {},
   "outputs": [
    {
     "name": "stdout",
     "output_type": "stream",
     "text": [
      "a [[1 2]\n",
      " [3 4]\n",
      " [5 6]\n",
      " [7 8]]\n",
      "b [[1 2 5 6]\n",
      " [3 4 7 8]]\n"
     ]
    }
   ],
   "source": [
    "#Que 48\n",
    "a = np.array([[1, 2], [3, 4]])\n",
    "b = np.array([[5, 6], [7, 8]])\n",
    "concat_axis0 = np.concatenate((a, b), axis=0)\n",
    "concat_axis1 = np.concatenate((a, b), axis=1)\n",
    "print('a',concat_axis0)\n",
    "print('b',concat_axis1)"
   ]
  },
  {
   "cell_type": "code",
   "execution_count": 52,
   "id": "7dd94d39-3757-44b6-94f9-961e549b98e7",
   "metadata": {},
   "outputs": [
    {
     "name": "stdout",
     "output_type": "stream",
     "text": [
      "[[1 2]\n",
      " [5 6]]\n",
      "[[3 4]\n",
      " [7 8]]\n"
     ]
    }
   ],
   "source": [
    "#Que 49\n",
    "arr = np.array([[1, 2, 3, 4],[5, 6, 7, 8]])\n",
    "a = np.split(arr, 2, axis=1)\n",
    "for i in a:\n",
    "    print(i)"
   ]
  },
  {
   "cell_type": "code",
   "execution_count": 53,
   "id": "dba64883-c2eb-4271-8ba5-52d12e80df6c",
   "metadata": {},
   "outputs": [
    {
     "name": "stdout",
     "output_type": "stream",
     "text": [
      "a [10 20 25 30 40 50]\n",
      "b [10 20 30 50]\n"
     ]
    }
   ],
   "source": [
    "#Que 50\n",
    "arr = np.array([10, 20, 30, 40, 50])\n",
    "inserted = np.insert(arr, 2, 25)\n",
    "deleted = np.delete(arr, 3)\n",
    "print('a',inserted)\n",
    "print('b',deleted)\n"
   ]
  },
  {
   "cell_type": "code",
   "execution_count": 55,
   "id": "4aca0846-1681-4e58-bb20-6c515b355022",
   "metadata": {},
   "outputs": [],
   "source": [
    "\n",
    "arr1 = np.array([2, 4, 6, 8])\n",
    "arr2 = np.array([1, 2, 3, 4])"
   ]
  },
  {
   "cell_type": "code",
   "execution_count": 56,
   "id": "07bed980-74bd-4a53-96c1-f6e4685e21e7",
   "metadata": {},
   "outputs": [
    {
     "name": "stdout",
     "output_type": "stream",
     "text": [
      "[ 3  6  9 12]\n"
     ]
    }
   ],
   "source": [
    "#Que 51\n",
    "a = arr1 + arr2\n",
    "print(a)"
   ]
  },
  {
   "cell_type": "code",
   "execution_count": 57,
   "id": "e23b88ef-6a46-42d9-a203-e25616e321ae",
   "metadata": {},
   "outputs": [
    {
     "name": "stdout",
     "output_type": "stream",
     "text": [
      "[1 2 3 4]\n"
     ]
    }
   ],
   "source": [
    "#Que 51\n",
    "a = arr1 - arr2\n",
    "print(a)"
   ]
  },
  {
   "cell_type": "code",
   "execution_count": 58,
   "id": "43787bf5-81b0-40e5-9906-8d6e99ae56fa",
   "metadata": {},
   "outputs": [
    {
     "name": "stdout",
     "output_type": "stream",
     "text": [
      "[ 2  8 18 32]\n"
     ]
    }
   ],
   "source": [
    "#Que 51\n",
    "a = arr1 * arr2\n",
    "print(a)"
   ]
  },
  {
   "cell_type": "code",
   "execution_count": 59,
   "id": "86eaf7a2-dc56-4b16-ba6f-8aae6f2c7724",
   "metadata": {},
   "outputs": [
    {
     "name": "stdout",
     "output_type": "stream",
     "text": [
      "[2. 2. 2. 2.]\n"
     ]
    }
   ],
   "source": [
    "#Que 51\n",
    "a = arr1 / arr2\n",
    "print(a)"
   ]
  },
  {
   "cell_type": "code",
   "execution_count": 60,
   "id": "351a6fed-f546-4524-b90e-8d8289748e47",
   "metadata": {},
   "outputs": [
    {
     "name": "stdout",
     "output_type": "stream",
     "text": [
      "[   2   16  216 4096]\n"
     ]
    }
   ],
   "source": [
    "#Que 51\n",
    "a = arr1 ** arr2\n",
    "print(a)"
   ]
  },
  {
   "cell_type": "code",
   "execution_count": 61,
   "id": "6005ba23-c721-4bc9-9e8b-8c9d23b5567a",
   "metadata": {},
   "outputs": [],
   "source": [
    "arr = np.array([\"Hello World\", \"Python PROGRAMMING\", \"HELLO\", \"data123\", \"NumPy\"])"
   ]
  },
  {
   "cell_type": "code",
   "execution_count": 62,
   "id": "f50cd46f-0bf6-4182-9711-5ddaab16b732",
   "metadata": {},
   "outputs": [
    {
     "name": "stdout",
     "output_type": "stream",
     "text": [
      "[2 1 0 0 0]\n"
     ]
    }
   ],
   "source": [
    "#Que 56\n",
    "substring = \"o\"\n",
    "counts = np.char.count(arr, substring)\n",
    "print( counts)"
   ]
  },
  {
   "cell_type": "code",
   "execution_count": 63,
   "id": "b5796995-ea5a-4c55-83ff-6885378b627c",
   "metadata": {},
   "outputs": [
    {
     "name": "stdout",
     "output_type": "stream",
     "text": [
      "['HW' 'PPROGRAMMING' 'HELLO' '' 'NP']\n"
     ]
    }
   ],
   "source": [
    "#Que 57\n",
    "def extract_uppercase(array):\n",
    "    return np.array([''.join([char for char in s if char.isupper()]) for s in array])\n",
    "a = extract_uppercase(arr)\n",
    "print(a)"
   ]
  },
  {
   "cell_type": "code",
   "execution_count": 64,
   "id": "42021268-e331-47c3-8050-893a34526cce",
   "metadata": {},
   "outputs": [
    {
     "name": "stdout",
     "output_type": "stream",
     "text": [
      "['Hi World' 'Python PROGRAMMING' 'HELLO' 'data123' 'NumPy']\n"
     ]
    }
   ],
   "source": [
    "#Que 58\n",
    "replaced = np.char.replace(arr, \"Hello\", \"Hi\")\n",
    "print( replaced)"
   ]
  },
  {
   "cell_type": "code",
   "execution_count": 65,
   "id": "4198699d-3109-41bb-b207-3908a6bc0ad8",
   "metadata": {},
   "outputs": [
    {
     "name": "stdout",
     "output_type": "stream",
     "text": [
      "['Hello World!' 'Python PROGRAMMING is fun' 'HELLO AGAIN' 'data123_456'\n",
      " 'NumPy Array']\n"
     ]
    }
   ],
   "source": [
    "#Que 59\n",
    "arr2 = np.array([\"!\", \" is fun\", \" AGAIN\", \"_456\", \" Array\"])\n",
    "concatenated = np.char.add(arr, arr2)\n",
    "print(concatenated)"
   ]
  },
  {
   "cell_type": "code",
   "execution_count": 66,
   "id": "e4585964-38c0-4ddc-ad23-e573064a0891",
   "metadata": {},
   "outputs": [
    {
     "name": "stdout",
     "output_type": "stream",
     "text": [
      "18\n"
     ]
    }
   ],
   "source": [
    "#Que 56\n",
    "lengths = np.char.str_len(arr)\n",
    "max_length = np.max(lengths)\n",
    "print(max_length)"
   ]
  },
  {
   "cell_type": "code",
   "execution_count": 67,
   "id": "e1171c7e-0a6c-4f80-b72d-4045523c1eb7",
   "metadata": {},
   "outputs": [
    {
     "name": "stdout",
     "output_type": "stream",
     "text": [
      "Mean 45.98\n",
      "Median 46.5\n",
      "Variance 744.4596\n",
      "Sd 27.284786970031487\n"
     ]
    }
   ],
   "source": [
    "#Que 61\n",
    "arr = np.random.randint(1, 100, 50)\n",
    "mean = np.mean(arr)\n",
    "median = np.median(arr)\n",
    "variance = np.var(arr)\n",
    "std_dev = np.std(arr)\n",
    "print(\"Mean\", mean)\n",
    "print(\"Median\", median)\n",
    "print(\"Variance\", variance)\n",
    "print(\"Sd\", std_dev)\n"
   ]
  },
  {
   "cell_type": "code",
   "execution_count": 68,
   "id": "1e2c29c7-2d69-430e-9e54-2b4dc0b8d786",
   "metadata": {},
   "outputs": [
    {
     "name": "stdout",
     "output_type": "stream",
     "text": [
      "25th P 24.0\n",
      "75th P 69.5\n"
     ]
    }
   ],
   "source": [
    "#Que 62\n",
    "a= np.percentile(arr, 25)\n",
    "a1 = np.percentile(arr, 75)\n",
    "\n",
    "print(\"25th P\",a)\n",
    "print(\"75th P\",a1)\n"
   ]
  },
  {
   "cell_type": "code",
   "execution_count": 69,
   "id": "4262c8d1-e0e2-42dc-884a-699509d5a834",
   "metadata": {},
   "outputs": [
    {
     "name": "stdout",
     "output_type": "stream",
     "text": [
      "-0.15939350127586557\n"
     ]
    }
   ],
   "source": [
    "#Que 63\n",
    "arr2 = np.random.randint(1, 100, 50)\n",
    "\n",
    "a = np.corrcoef(arr,arr2)\n",
    "correlation = a[0, 1]\n",
    "\n",
    "print(correlation)"
   ]
  },
  {
   "cell_type": "code",
   "execution_count": 70,
   "id": "de0184a5-c583-4b5e-a1c3-c1d9494db20c",
   "metadata": {},
   "outputs": [
    {
     "name": "stdout",
     "output_type": "stream",
     "text": [
      "[[19 22]\n",
      " [43 50]]\n"
     ]
    }
   ],
   "source": [
    "#Que 64\n",
    "A = np.array([[1, 2], [3, 4]])\n",
    "B = np.array([[5, 6], [7, 8]])\n",
    "product = np.dot(A, B)\n",
    "print(product)"
   ]
  },
  {
   "cell_type": "code",
   "execution_count": 71,
   "id": "af09a024-1628-42eb-95e3-fc3cd7965612",
   "metadata": {},
   "outputs": [
    {
     "name": "stdout",
     "output_type": "stream",
     "text": [
      "10th Percentile: 8.8\n",
      "50th Percentile (Median): 46.5\n",
      "90th Percentile: 85.1\n",
      "Q1 (25th Percentile): 24.0\n",
      "Q3 (75th Percentile): 69.5\n"
     ]
    }
   ],
   "source": [
    "#Que 65\n",
    "p10 = np.percentile(arr, 10)\n",
    "p50 = np.percentile(arr, 50)  # Median\n",
    "p90 = np.percentile(arr, 90)\n",
    "\n",
    "q1 = np.percentile(arr, 25)\n",
    "q3 = np.percentile(arr, 75)\n",
    "\n",
    "print(\"10th Percentile:\", p10)\n",
    "print(\"50th Percentile (Median):\", p50)\n",
    "print(\"90th Percentile:\", p90)\n",
    "print(\"Q1 (25th Percentile):\", q1)\n",
    "print(\"Q3 (75th Percentile):\", q3)"
   ]
  },
  {
   "cell_type": "code",
   "execution_count": 72,
   "id": "70fa7b82-0580-447f-8d85-fd2379138b7e",
   "metadata": {},
   "outputs": [
    {
     "name": "stdout",
     "output_type": "stream",
     "text": [
      "Index of element 30: 2\n"
     ]
    }
   ],
   "source": [
    "#Que 66\n",
    "arr = np.array([10, 25, 30, 45, 60, 15, 35])\n",
    "index = np.where(arr == 30)[0]\n",
    "if index.size > 0:\n",
    "    print(\"Index of element 30:\", index[0])\n",
    "else:\n",
    "    print(\"Element not found.\")\n"
   ]
  },
  {
   "cell_type": "code",
   "execution_count": 73,
   "id": "a42119a7-b37a-45be-ae3e-67329de561ba",
   "metadata": {},
   "outputs": [
    {
     "name": "stdout",
     "output_type": "stream",
     "text": [
      "Sorted array: [ 2  6  7 29 33 46 53 71 92 97]\n"
     ]
    }
   ],
   "source": [
    "#Que 67\n",
    "rand = np.random.randint(1, 100, 10)\n",
    "sort = np.sort(rand)\n",
    "print(\"Sorted array:\", sort)"
   ]
  },
  {
   "cell_type": "code",
   "execution_count": 74,
   "id": "1c08bab7-446e-4794-93dd-8c29c3e8a6fb",
   "metadata": {},
   "outputs": [
    {
     "name": "stdout",
     "output_type": "stream",
     "text": [
      "[25 30 45 60 35]\n"
     ]
    }
   ],
   "source": [
    "#Que 68\n",
    "greater_num = arr[arr > 20]\n",
    "print(greater_num)"
   ]
  },
  {
   "cell_type": "code",
   "execution_count": 75,
   "id": "26bf5832-d3d0-462e-a688-09e8754fd5a6",
   "metadata": {},
   "outputs": [
    {
     "name": "stdout",
     "output_type": "stream",
     "text": [
      "[30 45 60 15]\n"
     ]
    }
   ],
   "source": [
    "#Que 69\n",
    "div_by_3 = arr[arr % 3 == 0]\n",
    "print(div_by_3)"
   ]
  },
  {
   "cell_type": "code",
   "execution_count": null,
   "id": "452fc64a-4cc7-4fad-a131-d37abc027eaa",
   "metadata": {},
   "outputs": [],
   "source": []
  },
  {
   "cell_type": "code",
   "execution_count": null,
   "id": "0939bce4-61a6-4921-8126-d9954c24dd67",
   "metadata": {},
   "outputs": [],
   "source": []
  },
  {
   "cell_type": "code",
   "execution_count": null,
   "id": "03e579fe-f5c4-486d-af74-7514561c2a5a",
   "metadata": {},
   "outputs": [],
   "source": []
  },
  {
   "cell_type": "code",
   "execution_count": null,
   "id": "8bd84c46-0fc9-43b2-9071-9ec09ac42640",
   "metadata": {},
   "outputs": [],
   "source": []
  }
 ],
 "metadata": {
  "kernelspec": {
   "display_name": "Python 3 (ipykernel)",
   "language": "python",
   "name": "python3"
  },
  "language_info": {
   "codemirror_mode": {
    "name": "ipython",
    "version": 3
   },
   "file_extension": ".py",
   "mimetype": "text/x-python",
   "name": "python",
   "nbconvert_exporter": "python",
   "pygments_lexer": "ipython3",
   "version": "3.12.7"
  }
 },
 "nbformat": 4,
 "nbformat_minor": 5
}
